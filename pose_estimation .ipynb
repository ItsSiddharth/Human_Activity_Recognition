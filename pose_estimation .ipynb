{
 "cells": [
  {
   "cell_type": "code",
   "execution_count": 1,
   "metadata": {
    "colab": {
     "base_uri": "https://localhost:8080/",
     "height": 34
    },
    "colab_type": "code",
    "id": "mk5rpIn6X7qB",
    "outputId": "666b7d20-804d-43bb-8601-ff6160ca0b91"
   },
   "outputs": [
    {
     "name": "stderr",
     "output_type": "stream",
     "text": [
      "/home/ubuntu/.virtualenvs/deeplearning/lib/python3.6/site-packages/tensorflow/python/framework/dtypes.py:516: FutureWarning: Passing (type, 1) or '1type' as a synonym of type is deprecated; in a future version of numpy, it will be understood as (type, (1,)) / '(1,)type'.\n",
      "  _np_qint8 = np.dtype([(\"qint8\", np.int8, 1)])\n",
      "/home/ubuntu/.virtualenvs/deeplearning/lib/python3.6/site-packages/tensorflow/python/framework/dtypes.py:517: FutureWarning: Passing (type, 1) or '1type' as a synonym of type is deprecated; in a future version of numpy, it will be understood as (type, (1,)) / '(1,)type'.\n",
      "  _np_quint8 = np.dtype([(\"quint8\", np.uint8, 1)])\n",
      "/home/ubuntu/.virtualenvs/deeplearning/lib/python3.6/site-packages/tensorflow/python/framework/dtypes.py:518: FutureWarning: Passing (type, 1) or '1type' as a synonym of type is deprecated; in a future version of numpy, it will be understood as (type, (1,)) / '(1,)type'.\n",
      "  _np_qint16 = np.dtype([(\"qint16\", np.int16, 1)])\n",
      "/home/ubuntu/.virtualenvs/deeplearning/lib/python3.6/site-packages/tensorflow/python/framework/dtypes.py:519: FutureWarning: Passing (type, 1) or '1type' as a synonym of type is deprecated; in a future version of numpy, it will be understood as (type, (1,)) / '(1,)type'.\n",
      "  _np_quint16 = np.dtype([(\"quint16\", np.uint16, 1)])\n",
      "/home/ubuntu/.virtualenvs/deeplearning/lib/python3.6/site-packages/tensorflow/python/framework/dtypes.py:520: FutureWarning: Passing (type, 1) or '1type' as a synonym of type is deprecated; in a future version of numpy, it will be understood as (type, (1,)) / '(1,)type'.\n",
      "  _np_qint32 = np.dtype([(\"qint32\", np.int32, 1)])\n",
      "/home/ubuntu/.virtualenvs/deeplearning/lib/python3.6/site-packages/tensorflow/python/framework/dtypes.py:525: FutureWarning: Passing (type, 1) or '1type' as a synonym of type is deprecated; in a future version of numpy, it will be understood as (type, (1,)) / '(1,)type'.\n",
      "  np_resource = np.dtype([(\"resource\", np.ubyte, 1)])\n",
      "/home/ubuntu/.virtualenvs/deeplearning/lib/python3.6/site-packages/tensorboard/compat/tensorflow_stub/dtypes.py:541: FutureWarning: Passing (type, 1) or '1type' as a synonym of type is deprecated; in a future version of numpy, it will be understood as (type, (1,)) / '(1,)type'.\n",
      "  _np_qint8 = np.dtype([(\"qint8\", np.int8, 1)])\n",
      "/home/ubuntu/.virtualenvs/deeplearning/lib/python3.6/site-packages/tensorboard/compat/tensorflow_stub/dtypes.py:542: FutureWarning: Passing (type, 1) or '1type' as a synonym of type is deprecated; in a future version of numpy, it will be understood as (type, (1,)) / '(1,)type'.\n",
      "  _np_quint8 = np.dtype([(\"quint8\", np.uint8, 1)])\n",
      "/home/ubuntu/.virtualenvs/deeplearning/lib/python3.6/site-packages/tensorboard/compat/tensorflow_stub/dtypes.py:543: FutureWarning: Passing (type, 1) or '1type' as a synonym of type is deprecated; in a future version of numpy, it will be understood as (type, (1,)) / '(1,)type'.\n",
      "  _np_qint16 = np.dtype([(\"qint16\", np.int16, 1)])\n",
      "/home/ubuntu/.virtualenvs/deeplearning/lib/python3.6/site-packages/tensorboard/compat/tensorflow_stub/dtypes.py:544: FutureWarning: Passing (type, 1) or '1type' as a synonym of type is deprecated; in a future version of numpy, it will be understood as (type, (1,)) / '(1,)type'.\n",
      "  _np_quint16 = np.dtype([(\"quint16\", np.uint16, 1)])\n",
      "/home/ubuntu/.virtualenvs/deeplearning/lib/python3.6/site-packages/tensorboard/compat/tensorflow_stub/dtypes.py:545: FutureWarning: Passing (type, 1) or '1type' as a synonym of type is deprecated; in a future version of numpy, it will be understood as (type, (1,)) / '(1,)type'.\n",
      "  _np_qint32 = np.dtype([(\"qint32\", np.int32, 1)])\n",
      "/home/ubuntu/.virtualenvs/deeplearning/lib/python3.6/site-packages/tensorboard/compat/tensorflow_stub/dtypes.py:550: FutureWarning: Passing (type, 1) or '1type' as a synonym of type is deprecated; in a future version of numpy, it will be understood as (type, (1,)) / '(1,)type'.\n",
      "  np_resource = np.dtype([(\"resource\", np.ubyte, 1)])\n"
     ]
    }
   ],
   "source": [
    "import os\n",
    "import pandas as pd\n",
    "import tensorflow as tf\n",
    "from tensorflow.keras import Sequential\n",
    "from tensorflow.keras.layers import Dense, LSTM, Dropout, BatchNormalization\n",
    "import numpy as np\n",
    "import random\n",
    "from sklearn.utils import shuffle"
   ]
  },
  {
   "cell_type": "code",
   "execution_count": 2,
   "metadata": {
    "colab": {
     "base_uri": "https://localhost:8080/",
     "height": 700
    },
    "colab_type": "code",
    "id": "NBQ59F5jZOA3",
    "outputId": "6d5376b0-ccb9-4e31-dc54-0dd03e8b83a5"
   },
   "outputs": [
    {
     "name": "stdout",
     "output_type": "stream",
     "text": [
      "0     315\n",
      "1     320\n",
      "2     305\n",
      "3     323\n",
      "4     243\n",
      "5     337\n",
      "6     222\n",
      "7     395\n",
      "8     145\n",
      "9     644\n",
      "10    161\n",
      "11    325\n",
      "12    231\n",
      "13    412\n",
      "14    241\n",
      "15    325\n",
      "16    226\n",
      "Name: x, dtype: int64\n",
      "0      66\n",
      "1      55\n",
      "2      57\n",
      "3      54\n",
      "4      50\n",
      "5     110\n",
      "6     107\n",
      "7     187\n",
      "8     171\n",
      "9     346\n",
      "10    220\n",
      "11    244\n",
      "12    243\n",
      "13    314\n",
      "14    342\n",
      "15    487\n",
      "16    491\n",
      "Name: y, dtype: int64\n",
      "64107\n",
      "34\n",
      "[[235, 30, 238, 11, 231, 11, 244, 12, 200, 14, 247, 44, 194, 47, 253, 90, 192, 92, 284, 134, 194, 126, 248, 125, 226, 129, 289, 177, 235, 179, 293, 266, 234, 273], [235, 30, 238, 11, 231, 11, 244, 12, 200, 14, 247, 44, 194, 47, 253, 90, 192, 92, 284, 134, 194, 126, 248, 125, 226, 129, 289, 177, 235, 179, 293, 266, 234, 273], [235, 30, 238, 11, 231, 11, 244, 12, 200, 14, 247, 44, 194, 47, 253, 90, 192, 92, 284, 134, 194, 126, 248, 125, 226, 129, 289, 177, 235, 179, 293, 266, 234, 273], [235, 30, 238, 11, 231, 11, 244, 12, 200, 14, 247, 44, 194, 47, 253, 90, 192, 92, 284, 134, 194, 126, 248, 125, 226, 129, 289, 177, 235, 179, 293, 266, 234, 273], [235, 30, 238, 11, 231, 11, 244, 12, 200, 14, 247, 44, 194, 47, 253, 90, 192, 92, 284, 134, 194, 126, 248, 125, 226, 129, 289, 177, 235, 179, 293, 266, 234, 273], [235, 30, 238, 11, 231, 11, 244, 12, 200, 14, 247, 44, 194, 47, 253, 90, 192, 92, 284, 134, 194, 126, 248, 125, 226, 129, 289, 177, 235, 179, 293, 266, 234, 273], [235, 30, 238, 11, 231, 11, 244, 12, 200, 14, 247, 44, 194, 47, 253, 90, 192, 92, 284, 134, 194, 126, 248, 125, 226, 129, 289, 177, 235, 179, 293, 266, 234, 273], [235, 30, 238, 11, 231, 11, 244, 12, 200, 14, 247, 44, 194, 47, 253, 90, 192, 92, 284, 134, 194, 126, 248, 125, 226, 129, 289, 177, 235, 179, 293, 266, 234, 273], [235, 30, 238, 11, 231, 11, 244, 12, 200, 14, 247, 44, 194, 47, 253, 90, 192, 92, 284, 134, 194, 126, 248, 125, 226, 129, 289, 177, 235, 179, 293, 266, 234, 273]]\n"
     ]
    }
   ],
   "source": [
    "concatinated_x_y = []\n",
    "concatinated_frames = []\n",
    "intermediate_list = []\n",
    "X_guitar = []\n",
    "df_yoga = pd.read_csv('training_data_yoga.csv')\n",
    "df_guitar = pd.read_csv('training_data_guitar.csv')\n",
    "print(df_guitar['x'].head(17))\n",
    "print(df_guitar['y'].head(17))\n",
    "x_cords = list(df_guitar['x'])\n",
    "y_cords = list(df_guitar['y'])\n",
    "print(len(x_cords)) # ==> 64107\n",
    "for i in range(0, len(x_cords)):\n",
    "  if i%17 ==0 and i != 0:\n",
    "    concatinated_frames.append(intermediate_list)\n",
    "    intermediate_list = []\n",
    "    intermediate_list.append(x_cords[i])\n",
    "    intermediate_list.append(y_cords[i])\n",
    "  else :\n",
    "    intermediate_list.append(x_cords[i])\n",
    "    intermediate_list.append(y_cords[i])\n",
    "print(len(concatinated_frames[0]))\n",
    "\n",
    "intermediate_list = []\n",
    "for i in range(0, len(concatinated_frames)):\n",
    "  if i%9 ==0 and i != 0:\n",
    "    X_guitar.append(intermediate_list)\n",
    "    intermediate_list = []\n",
    "    intermediate_list.append(concatinated_frames[i])\n",
    "  else :\n",
    "    intermediate_list.append(concatinated_frames[i])\n",
    "print(X_guitar[-1])"
   ]
  },
  {
   "cell_type": "code",
   "execution_count": 10,
   "metadata": {
    "colab": {
     "base_uri": "https://localhost:8080/",
     "height": 700
    },
    "colab_type": "code",
    "id": "CMKW16wrbX4Y",
    "outputId": "be993f07-f99d-41f7-c8b5-8dbfbdff81b0"
   },
   "outputs": [
    {
     "name": "stdout",
     "output_type": "stream",
     "text": [
      "0       0\n",
      "1       0\n",
      "2       0\n",
      "3       0\n",
      "4     323\n",
      "5     309\n",
      "6     332\n",
      "7     228\n",
      "8     335\n",
      "9     309\n",
      "10    408\n",
      "11    311\n",
      "12    331\n",
      "13    311\n",
      "14    323\n",
      "15    320\n",
      "16    327\n",
      "Name: x, dtype: int64\n",
      "0       0\n",
      "1       0\n",
      "2       0\n",
      "3       0\n",
      "4     176\n",
      "5     232\n",
      "6     233\n",
      "7     243\n",
      "8     241\n",
      "9     247\n",
      "10    302\n",
      "11    294\n",
      "12    293\n",
      "13    352\n",
      "14    350\n",
      "15    416\n",
      "16    416\n",
      "Name: y, dtype: int64\n",
      "64107\n",
      "34\n",
      "[[0, 0, 0, 0, 0, 0, 0, 0, 323, 176, 309, 232, 332, 233, 228, 243, 335, 241, 309, 247, 408, 302, 311, 294, 331, 293, 311, 352, 323, 350, 320, 416, 327, 416], [0, 0, 0, 0, 0, 0, 0, 0, 323, 176, 309, 232, 332, 233, 228, 243, 335, 241, 309, 247, 408, 302, 311, 294, 331, 293, 311, 352, 323, 350, 320, 416, 327, 416], [0, 0, 0, 0, 0, 0, 0, 0, 323, 176, 309, 232, 332, 233, 228, 243, 335, 241, 309, 247, 408, 302, 311, 294, 331, 293, 311, 352, 323, 350, 320, 416, 327, 416], [0, 0, 0, 0, 0, 0, 0, 0, 323, 176, 309, 232, 332, 233, 228, 243, 335, 241, 309, 247, 408, 302, 311, 294, 331, 293, 311, 352, 323, 350, 320, 416, 327, 416], [0, 0, 0, 0, 0, 0, 0, 0, 323, 176, 309, 232, 332, 233, 228, 243, 335, 241, 309, 247, 408, 302, 311, 294, 331, 293, 311, 352, 323, 350, 320, 416, 327, 416], [0, 0, 0, 0, 0, 0, 0, 0, 323, 176, 309, 232, 332, 233, 228, 243, 335, 241, 309, 247, 408, 302, 311, 294, 331, 293, 311, 352, 323, 350, 320, 416, 327, 416], [0, 0, 0, 0, 0, 0, 0, 0, 323, 176, 309, 232, 332, 233, 228, 243, 335, 241, 309, 247, 408, 302, 311, 294, 331, 293, 311, 352, 323, 350, 320, 416, 327, 416], [0, 0, 0, 0, 0, 0, 0, 0, 323, 176, 309, 232, 332, 233, 228, 243, 335, 241, 309, 247, 408, 302, 311, 294, 331, 293, 311, 352, 323, 350, 320, 416, 327, 416], [0, 0, 0, 0, 0, 0, 0, 0, 323, 176, 309, 232, 332, 233, 228, 243, 335, 241, 309, 247, 408, 302, 311, 294, 331, 293, 311, 352, 323, 350, 320, 416, 327, 416]]\n"
     ]
    }
   ],
   "source": [
    "concatinated_x_y = []\n",
    "concatinated_frames = []\n",
    "intermediate_list = []\n",
    "X_yoga = []\n",
    "df_yoga = pd.read_csv('training_data_yoga.csv')\n",
    "df_guitar = pd.read_csv('training_data_guitar.csv')\n",
    "print(df_yoga['x'].head(17))\n",
    "print(df_yoga['y'].head(17))\n",
    "x_cords = list(df_yoga['x'])\n",
    "y_cords = list(df_yoga['y'])\n",
    "print(len(x_cords)) # ==> 64107\n",
    "for i in range(0, len(x_cords)):\n",
    "  if i%17 ==0 and i != 0:\n",
    "    concatinated_frames.append(intermediate_list)\n",
    "    intermediate_list = []\n",
    "    intermediate_list.append(x_cords[i])\n",
    "    intermediate_list.append(y_cords[i])\n",
    "  else :\n",
    "    intermediate_list.append(x_cords[i])\n",
    "    intermediate_list.append(y_cords[i])\n",
    "print(len(concatinated_frames[0]))\n",
    "\n",
    "intermediate_list = []\n",
    "for i in range(0, len(concatinated_frames)):\n",
    "  if i%9 ==0 and i != 0:\n",
    "    X_yoga.append(intermediate_list)\n",
    "    intermediate_list = []\n",
    "    intermediate_list.append(concatinated_frames[i])\n",
    "  else :\n",
    "    intermediate_list.append(concatinated_frames[i])\n",
    "print(X_yoga[0])"
   ]
  },
  {
   "cell_type": "code",
   "execution_count": 11,
   "metadata": {
    "colab": {
     "base_uri": "https://localhost:8080/",
     "height": 71
    },
    "colab_type": "code",
    "id": "ZvfNx__pFQdU",
    "outputId": "4cc42cd5-91cf-4d33-d775-1e78883707fa"
   },
   "outputs": [
    {
     "name": "stdout",
     "output_type": "stream",
     "text": [
      "[[235, 30, 238, 11, 231, 11, 244, 12, 200, 14, 247, 44, 194, 47, 253, 90, 192, 92, 284, 134, 194, 126, 248, 125, 226, 129, 289, 177, 235, 179, 293, 266, 234, 273], [235, 30, 238, 11, 231, 11, 244, 12, 200, 14, 247, 44, 194, 47, 253, 90, 192, 92, 284, 134, 194, 126, 248, 125, 226, 129, 289, 177, 235, 179, 293, 266, 234, 273], [235, 30, 238, 11, 231, 11, 244, 12, 200, 14, 247, 44, 194, 47, 253, 90, 192, 92, 284, 134, 194, 126, 248, 125, 226, 129, 289, 177, 235, 179, 293, 266, 234, 273], [235, 30, 238, 11, 231, 11, 244, 12, 200, 14, 247, 44, 194, 47, 253, 90, 192, 92, 284, 134, 194, 126, 248, 125, 226, 129, 289, 177, 235, 179, 293, 266, 234, 273], [235, 30, 238, 11, 231, 11, 244, 12, 200, 14, 247, 44, 194, 47, 253, 90, 192, 92, 284, 134, 194, 126, 248, 125, 226, 129, 289, 177, 235, 179, 293, 266, 234, 273], [235, 30, 238, 11, 231, 11, 244, 12, 200, 14, 247, 44, 194, 47, 253, 90, 192, 92, 284, 134, 194, 126, 248, 125, 226, 129, 289, 177, 235, 179, 293, 266, 234, 273], [235, 30, 238, 11, 231, 11, 244, 12, 200, 14, 247, 44, 194, 47, 253, 90, 192, 92, 284, 134, 194, 126, 248, 125, 226, 129, 289, 177, 235, 179, 293, 266, 234, 273], [235, 30, 238, 11, 231, 11, 244, 12, 200, 14, 247, 44, 194, 47, 253, 90, 192, 92, 284, 134, 194, 126, 248, 125, 226, 129, 289, 177, 235, 179, 293, 266, 234, 273], [235, 30, 238, 11, 231, 11, 244, 12, 200, 14, 247, 44, 194, 47, 253, 90, 192, 92, 284, 134, 194, 126, 248, 125, 226, 129, 289, 177, 235, 179, 293, 266, 234, 273]]\n",
      "<class 'list'>\n"
     ]
    }
   ],
   "source": [
    "X_train = X_guitar + X_yoga\n",
    "print(X_train[417])\n",
    "guitar_label = np.zeros((len(X_guitar)))\n",
    "guitar_label = list(guitar_label)\n",
    "yoga_label = np.ones((len(X_yoga)))\n",
    "yoga_label = list(yoga_label)\n",
    "Y_train = guitar_label + yoga_label\n",
    "print(type(Y_train))"
   ]
  },
  {
   "cell_type": "code",
   "execution_count": 12,
   "metadata": {
    "colab": {
     "base_uri": "https://localhost:8080/",
     "height": 544
    },
    "colab_type": "code",
    "id": "gon8OpqdJ6Oq",
    "outputId": "d2f6a5eb-78f4-411c-8390-43ea93df074d"
   },
   "outputs": [
    {
     "name": "stdout",
     "output_type": "stream",
     "text": [
      "[0. 1. 1. 1. 1. 1. 1. 1. 1. 0. 0. 0. 1. 0. 1. 0. 0. 0. 1. 1. 0. 0. 1. 0.\n",
      " 1. 1. 1. 1. 0. 1. 0. 0. 0. 1. 0. 0. 0. 1. 0. 1. 1. 0. 0. 0. 0. 0. 0. 1.\n",
      " 0. 0. 1. 1. 0. 0. 1. 0. 0. 0. 1. 1. 0. 0. 1. 0. 1. 1. 1. 1. 0. 0. 0. 0.\n",
      " 0. 0. 0. 0. 0. 0. 1. 1. 0. 0. 0. 0. 0. 1. 1. 1. 1. 1. 1. 0. 1. 0. 1. 1.\n",
      " 1. 0. 0. 0. 0. 1. 1. 0. 0. 1. 1. 1. 1. 1. 1. 1. 1. 0. 0. 0. 0. 1. 0. 0.\n",
      " 1. 0. 0. 1. 1. 1. 0. 1. 1. 0. 0. 1. 1. 0. 0. 0. 1. 1. 1. 0. 1. 1. 1. 1.\n",
      " 1. 1. 1. 0. 0. 1. 0. 0. 0. 0. 1. 0. 1. 1. 1. 1. 1. 1. 1. 1. 0. 0. 0. 0.\n",
      " 1. 1. 0. 0. 0. 1. 1. 0. 0. 1. 0. 1. 0. 1. 1. 1. 0. 0. 0. 0. 0. 1. 0. 0.\n",
      " 0. 1. 1. 0. 0. 1. 0. 0. 1. 0. 0. 1. 0. 1. 0. 1. 0. 0. 0. 0. 0. 0. 1. 1.\n",
      " 0. 0. 0. 1. 1. 0. 1. 0. 0. 1. 1. 0. 0. 1. 0. 1. 0. 0. 0. 1. 1. 1. 1. 1.\n",
      " 1. 0. 0. 1. 0. 1. 0. 1. 0. 1. 0. 0. 1. 1. 1. 1. 1. 1. 1. 1. 0. 1. 0. 0.\n",
      " 0. 1. 1. 0. 1. 1. 1. 0. 0. 0. 1. 0. 0. 0. 1. 0. 1. 0. 0. 0. 1. 0. 1. 1.\n",
      " 0. 1. 1. 1. 1. 1. 0. 1. 0. 1. 1. 1. 1. 1. 0. 0. 1. 0. 1. 0. 0. 0. 1. 0.\n",
      " 0. 1. 0. 1. 0. 1. 1. 1. 0. 0. 0. 0. 0. 1. 1. 1. 0. 0. 0. 0. 0. 1. 1. 1.\n",
      " 0. 1. 0. 0. 1. 0. 0. 0. 1. 0. 1. 0. 1. 1. 0. 0. 1. 0. 1. 0. 0. 0. 1. 0.\n",
      " 0. 0. 1. 1. 1. 0. 1. 0. 1. 1. 0. 1. 1. 1. 1. 1. 0. 1. 1. 0. 0. 1. 0. 0.\n",
      " 0. 1. 0. 0. 1. 0. 1. 1. 0. 1. 0. 1. 0. 0. 1. 1. 0. 1. 0. 0. 0. 0. 0. 0.\n",
      " 1. 1. 0. 1. 0. 0. 0. 0. 0. 1. 0. 1. 1. 1. 1. 1. 1. 1. 1. 0. 1. 1. 1. 0.\n",
      " 0. 1. 0. 1. 1. 1. 1. 0. 1. 1. 1. 1. 1. 1. 1. 1. 1. 1. 0. 0. 1. 1. 0. 0.\n",
      " 0. 1. 1. 0. 0. 0. 0. 1. 0. 0. 1. 1. 1. 0. 1. 1. 1. 0. 0. 0. 1. 0. 0. 1.\n",
      " 0. 0. 1. 1. 0. 0. 1. 1. 0. 1. 1. 1. 1. 1. 0. 0. 0. 1. 1. 1. 1. 1. 0. 0.\n",
      " 0. 1. 1. 0. 1. 0. 0. 0. 0. 0. 1. 0. 0. 0. 0. 1. 0. 1. 0. 0. 0. 0. 1. 0.\n",
      " 1. 1. 1. 1. 0. 1. 1. 1. 0. 1. 1. 0. 0. 0. 1. 0. 1. 0. 1. 0. 0. 0. 0. 0.\n",
      " 0. 1. 0. 0. 1. 1. 1. 1. 1. 0. 1. 0. 1. 0. 0. 1. 1. 1. 1. 1. 1. 1. 0. 1.\n",
      " 1. 1. 0. 0. 1. 0. 1. 0. 0. 1. 1. 1. 0. 1. 0. 0. 0. 0. 1. 0. 0. 1. 1. 1.\n",
      " 1. 0. 0. 1. 0. 1. 1. 1. 1. 1. 1. 1. 0. 0. 1. 0. 1. 0. 1. 1. 0. 1. 1. 0.\n",
      " 1. 0. 1. 1. 1. 0. 1. 0. 0. 1. 1. 0. 0. 0. 1. 1. 1. 0. 0. 0. 1. 1. 0. 1.\n",
      " 1. 0. 1. 1. 1. 1. 0. 1. 1. 0. 0. 1. 1. 1. 0. 0. 0. 1. 1. 0. 0. 0. 0. 1.\n",
      " 0. 1. 0. 0. 1. 0. 0. 1. 1. 1. 0. 0. 0. 1. 0. 0. 0. 1. 0. 1. 0. 0. 1. 0.\n",
      " 1. 1. 0. 0. 0. 1. 0. 1. 1. 1. 1. 0. 1. 0. 0. 1. 0. 1. 1. 1. 0. 0. 1. 0.\n",
      " 1. 1. 0. 0. 1. 1. 1. 1. 1. 1. 0. 0. 0. 0. 0. 0. 1. 1. 0. 0. 1. 1. 1. 0.\n",
      " 1. 1. 1. 1. 1. 0. 0. 0. 0. 0. 0. 0. 0. 1. 0. 1. 1. 0. 0. 1. 0. 0. 1. 1.\n",
      " 0. 1. 0. 0. 1. 1. 0. 0. 1. 0. 0. 1. 0. 1. 1. 1. 0. 1. 0. 0. 1. 0. 1. 1.\n",
      " 0. 1. 0. 1. 1. 1. 0. 1. 0. 1. 0. 0. 0. 0. 0. 0. 0. 1. 1. 0. 1. 0. 1. 0.\n",
      " 0. 1. 1. 0. 0. 0. 0. 0. 0. 0. 1. 1. 0. 1. 1. 1. 0. 0. 0. 1.]\n"
     ]
    }
   ],
   "source": [
    "X_train, Y_train = shuffle(np.array(X_train), np.array(Y_train))\n",
    "print(Y_train)"
   ]
  },
  {
   "cell_type": "code",
   "execution_count": 13,
   "metadata": {
    "colab": {
     "base_uri": "https://localhost:8080/",
     "height": 85
    },
    "colab_type": "code",
    "id": "YC417kxbQUnJ",
    "outputId": "3696fb28-f026-4c87-8d49-876d6ec31615"
   },
   "outputs": [
    {
     "name": "stdout",
     "output_type": "stream",
     "text": [
      "(736, 9, 34)\n",
      "(100, 9, 34)\n",
      "(736,)\n",
      "(100,)\n"
     ]
    }
   ],
   "source": [
    "X_test = X_train[-100:]\n",
    "X_train = X_train[:-100]\n",
    "Y_test = Y_train[-100:]\n",
    "Y_train = Y_train[:-100]\n",
    "\n",
    "X_train = np.array(X_train)\n",
    "X_test = np.array(X_test)\n",
    "Y_test = np.array(Y_test)\n",
    "Y_train = np.array(Y_train)\n",
    "print(X_train.shape)\n",
    "print(X_test.shape)\n",
    "print(Y_train.shape)\n",
    "print(Y_test.shape)"
   ]
  },
  {
   "cell_type": "code",
   "execution_count": 17,
   "metadata": {
    "colab": {},
    "colab_type": "code",
    "id": "R4LXe3PJFohB"
   },
   "outputs": [],
   "source": [
    "model = Sequential()\n",
    "model.add(LSTM(128, input_shape=(X_train.shape[1:]), return_sequences=True))\n",
    "model.add(Dropout(0.2))\n",
    "model.add(BatchNormalization())\n",
    "\n",
    "model.add(LSTM(128))\n",
    "model.add(Dropout(0.1))\n",
    "model.add(BatchNormalization())\n",
    "\n",
    "\n",
    "model.add(Dense(32, activation='relu'))\n",
    "model.add(Dropout(0.2))\n",
    "\n",
    "model.add(Dense(1, activation='sigmoid'))"
   ]
  },
  {
   "cell_type": "code",
   "execution_count": 19,
   "metadata": {
    "colab": {
     "base_uri": "https://localhost:8080/",
     "height": 1000
    },
    "colab_type": "code",
    "id": "DQ1y4Gm6I3_7",
    "outputId": "97cc6994-00e2-4307-eaeb-5a95cabf593a"
   },
   "outputs": [
    {
     "name": "stdout",
     "output_type": "stream",
     "text": [
      "Train on 736 samples, validate on 100 samples\n",
      "Epoch 1/200\n",
      "736/736 [==============================] - 2s 2ms/sample - loss: 7.5833 - acc: 0.5054 - val_loss: 8.2799 - val_acc: 0.4600\n",
      "Epoch 2/200\n",
      "736/736 [==============================] - 0s 332us/sample - loss: 7.5833 - acc: 0.5054 - val_loss: 8.2799 - val_acc: 0.4600\n",
      "Epoch 3/200\n",
      "736/736 [==============================] - 0s 350us/sample - loss: 7.5833 - acc: 0.5054 - val_loss: 8.2799 - val_acc: 0.4600\n",
      "Epoch 4/200\n",
      "736/736 [==============================] - 0s 353us/sample - loss: 7.5833 - acc: 0.5054 - val_loss: 8.2799 - val_acc: 0.4600\n",
      "Epoch 5/200\n",
      "736/736 [==============================] - 0s 376us/sample - loss: 7.5833 - acc: 0.5054 - val_loss: 8.2799 - val_acc: 0.4600\n",
      "Epoch 6/200\n",
      "736/736 [==============================] - 0s 403us/sample - loss: 7.5833 - acc: 0.5054 - val_loss: 8.2799 - val_acc: 0.4600\n",
      "Epoch 7/200\n",
      "736/736 [==============================] - 0s 449us/sample - loss: 7.5833 - acc: 0.5054 - val_loss: 8.2799 - val_acc: 0.4600\n",
      "Epoch 8/200\n",
      "736/736 [==============================] - 0s 373us/sample - loss: 7.5833 - acc: 0.5054 - val_loss: 8.2799 - val_acc: 0.4600\n",
      "Epoch 9/200\n",
      "736/736 [==============================] - 0s 413us/sample - loss: 7.5833 - acc: 0.5054 - val_loss: 8.2799 - val_acc: 0.4600\n",
      "Epoch 10/200\n",
      "736/736 [==============================] - 0s 456us/sample - loss: 7.5833 - acc: 0.5054 - val_loss: 8.2799 - val_acc: 0.4600\n",
      "Epoch 11/200\n",
      "736/736 [==============================] - 0s 377us/sample - loss: 7.5833 - acc: 0.5054 - val_loss: 8.2799 - val_acc: 0.4600\n",
      "Epoch 12/200\n",
      "736/736 [==============================] - 0s 384us/sample - loss: 7.5833 - acc: 0.5054 - val_loss: 8.2799 - val_acc: 0.4600\n",
      "Epoch 13/200\n",
      "736/736 [==============================] - 0s 385us/sample - loss: 7.5833 - acc: 0.5054 - val_loss: 8.2799 - val_acc: 0.4600\n",
      "Epoch 14/200\n",
      "736/736 [==============================] - 0s 378us/sample - loss: 7.5833 - acc: 0.5054 - val_loss: 8.2799 - val_acc: 0.4600\n",
      "Epoch 15/200\n",
      "736/736 [==============================] - 0s 423us/sample - loss: 7.5833 - acc: 0.5054 - val_loss: 8.2799 - val_acc: 0.4600\n",
      "Epoch 16/200\n",
      "736/736 [==============================] - 0s 452us/sample - loss: 7.5833 - acc: 0.5054 - val_loss: 8.2799 - val_acc: 0.4600\n",
      "Epoch 17/200\n",
      "736/736 [==============================] - 0s 418us/sample - loss: 7.5833 - acc: 0.5054 - val_loss: 8.2799 - val_acc: 0.4600\n",
      "Epoch 18/200\n",
      "736/736 [==============================] - 0s 435us/sample - loss: 7.5833 - acc: 0.5054 - val_loss: 8.2799 - val_acc: 0.4600\n",
      "Epoch 19/200\n",
      "736/736 [==============================] - 0s 380us/sample - loss: 7.5833 - acc: 0.5054 - val_loss: 8.2799 - val_acc: 0.4600\n",
      "Epoch 20/200\n",
      "736/736 [==============================] - 0s 385us/sample - loss: 7.5833 - acc: 0.5054 - val_loss: 8.2799 - val_acc: 0.4600\n",
      "Epoch 21/200\n",
      "736/736 [==============================] - 0s 383us/sample - loss: 7.5833 - acc: 0.5054 - val_loss: 8.2799 - val_acc: 0.4600\n",
      "Epoch 22/200\n",
      "736/736 [==============================] - 0s 392us/sample - loss: 7.5833 - acc: 0.5054 - val_loss: 8.2799 - val_acc: 0.4600\n",
      "Epoch 23/200\n",
      "736/736 [==============================] - 0s 391us/sample - loss: 7.5833 - acc: 0.5054 - val_loss: 8.2799 - val_acc: 0.4600\n",
      "Epoch 24/200\n",
      "736/736 [==============================] - 0s 439us/sample - loss: 7.5833 - acc: 0.5054 - val_loss: 8.2799 - val_acc: 0.4600\n",
      "Epoch 25/200\n",
      "736/736 [==============================] - 0s 434us/sample - loss: 7.5833 - acc: 0.5054 - val_loss: 8.2799 - val_acc: 0.4600\n",
      "Epoch 26/200\n",
      "736/736 [==============================] - 0s 426us/sample - loss: 7.5833 - acc: 0.5054 - val_loss: 8.2799 - val_acc: 0.4600\n",
      "Epoch 27/200\n",
      "736/736 [==============================] - 0s 380us/sample - loss: 7.5833 - acc: 0.5054 - val_loss: 8.2799 - val_acc: 0.4600\n",
      "Epoch 28/200\n",
      "736/736 [==============================] - 0s 450us/sample - loss: 7.5833 - acc: 0.5054 - val_loss: 8.2799 - val_acc: 0.4600\n",
      "Epoch 29/200\n",
      "736/736 [==============================] - 0s 473us/sample - loss: 7.5833 - acc: 0.5054 - val_loss: 8.2799 - val_acc: 0.4600\n",
      "Epoch 30/200\n",
      "736/736 [==============================] - 0s 388us/sample - loss: 7.5833 - acc: 0.5054 - val_loss: 8.2799 - val_acc: 0.4600\n",
      "Epoch 31/200\n",
      "736/736 [==============================] - 0s 388us/sample - loss: 7.5833 - acc: 0.5054 - val_loss: 8.2799 - val_acc: 0.4600\n",
      "Epoch 32/200\n",
      "736/736 [==============================] - 0s 395us/sample - loss: 7.5833 - acc: 0.5054 - val_loss: 8.2799 - val_acc: 0.4600\n",
      "Epoch 33/200\n",
      "736/736 [==============================] - 0s 457us/sample - loss: 7.5833 - acc: 0.5054 - val_loss: 8.2799 - val_acc: 0.4600\n",
      "Epoch 34/200\n",
      "736/736 [==============================] - 0s 405us/sample - loss: 7.5833 - acc: 0.5054 - val_loss: 8.2799 - val_acc: 0.4600\n",
      "Epoch 35/200\n",
      "736/736 [==============================] - 0s 382us/sample - loss: 7.5833 - acc: 0.5054 - val_loss: 8.2799 - val_acc: 0.4600\n",
      "Epoch 36/200\n",
      "736/736 [==============================] - 0s 400us/sample - loss: 7.5833 - acc: 0.5054 - val_loss: 8.2799 - val_acc: 0.4600\n",
      "Epoch 37/200\n",
      "736/736 [==============================] - 0s 382us/sample - loss: 7.5833 - acc: 0.5054 - val_loss: 8.2799 - val_acc: 0.4600\n",
      "Epoch 38/200\n",
      "736/736 [==============================] - 0s 393us/sample - loss: 7.5833 - acc: 0.5054 - val_loss: 8.2799 - val_acc: 0.4600\n",
      "Epoch 39/200\n",
      "736/736 [==============================] - 0s 395us/sample - loss: 7.5833 - acc: 0.5054 - val_loss: 8.2799 - val_acc: 0.4600\n",
      "Epoch 40/200\n",
      "736/736 [==============================] - 0s 387us/sample - loss: 7.5833 - acc: 0.5054 - val_loss: 8.2799 - val_acc: 0.4600\n",
      "Epoch 41/200\n",
      "736/736 [==============================] - 0s 380us/sample - loss: 7.5833 - acc: 0.5054 - val_loss: 8.2799 - val_acc: 0.4600\n",
      "Epoch 42/200\n",
      "736/736 [==============================] - 0s 381us/sample - loss: 7.5833 - acc: 0.5054 - val_loss: 8.2799 - val_acc: 0.4600\n",
      "Epoch 43/200\n",
      "736/736 [==============================] - 0s 381us/sample - loss: 7.5833 - acc: 0.5054 - val_loss: 8.2799 - val_acc: 0.4600\n",
      "Epoch 44/200\n",
      "736/736 [==============================] - 0s 421us/sample - loss: 7.5833 - acc: 0.5054 - val_loss: 8.2799 - val_acc: 0.4600\n",
      "Epoch 45/200\n",
      "736/736 [==============================] - 0s 410us/sample - loss: 7.5833 - acc: 0.5054 - val_loss: 8.2799 - val_acc: 0.4600\n",
      "Epoch 46/200\n",
      "736/736 [==============================] - 0s 394us/sample - loss: 7.5833 - acc: 0.5054 - val_loss: 8.2799 - val_acc: 0.4600\n",
      "Epoch 47/200\n",
      "736/736 [==============================] - 0s 398us/sample - loss: 7.5833 - acc: 0.5054 - val_loss: 8.2799 - val_acc: 0.4600\n",
      "Epoch 48/200\n",
      "736/736 [==============================] - 0s 407us/sample - loss: 7.5833 - acc: 0.5054 - val_loss: 8.2799 - val_acc: 0.4600\n",
      "Epoch 49/200\n",
      "256/736 [=========>....................] - ETA: 0s - loss: 7.5468 - acc: 0.5078"
     ]
    },
    {
     "ename": "KeyboardInterrupt",
     "evalue": "",
     "output_type": "error",
     "traceback": [
      "\u001b[0;31m--------------------------------------------------------------------\u001b[0m",
      "\u001b[0;31mKeyboardInterrupt\u001b[0m                  Traceback (most recent call last)",
      "\u001b[0;32m<ipython-input-19-af44cd621f4d>\u001b[0m in \u001b[0;36m<module>\u001b[0;34m\u001b[0m\n\u001b[1;32m     14\u001b[0m     \u001b[0mbatch_size\u001b[0m\u001b[0;34m=\u001b[0m\u001b[0mBATCH_SIZE\u001b[0m\u001b[0;34m,\u001b[0m\u001b[0;34m\u001b[0m\u001b[0;34m\u001b[0m\u001b[0m\n\u001b[1;32m     15\u001b[0m     \u001b[0mepochs\u001b[0m\u001b[0;34m=\u001b[0m\u001b[0mEPOCHS\u001b[0m\u001b[0;34m,\u001b[0m\u001b[0;34m\u001b[0m\u001b[0;34m\u001b[0m\u001b[0m\n\u001b[0;32m---> 16\u001b[0;31m     \u001b[0mvalidation_data\u001b[0m\u001b[0;34m=\u001b[0m\u001b[0;34m(\u001b[0m\u001b[0mX_test\u001b[0m\u001b[0;34m,\u001b[0m \u001b[0mY_test\u001b[0m\u001b[0;34m)\u001b[0m\u001b[0;34m,\u001b[0m\u001b[0;34m\u001b[0m\u001b[0;34m\u001b[0m\u001b[0m\n\u001b[0m\u001b[1;32m     17\u001b[0m )\n\u001b[1;32m     18\u001b[0m \u001b[0;34m\u001b[0m\u001b[0m\n",
      "\u001b[0;32m~/.virtualenvs/deeplearning/lib/python3.6/site-packages/tensorflow/python/keras/engine/training.py\u001b[0m in \u001b[0;36mfit\u001b[0;34m(self, x, y, batch_size, epochs, verbose, callbacks, validation_split, validation_data, shuffle, class_weight, sample_weight, initial_epoch, steps_per_epoch, validation_steps, validation_freq, max_queue_size, workers, use_multiprocessing, **kwargs)\u001b[0m\n\u001b[1;32m    778\u001b[0m           \u001b[0mvalidation_steps\u001b[0m\u001b[0;34m=\u001b[0m\u001b[0mvalidation_steps\u001b[0m\u001b[0;34m,\u001b[0m\u001b[0;34m\u001b[0m\u001b[0;34m\u001b[0m\u001b[0m\n\u001b[1;32m    779\u001b[0m           \u001b[0mvalidation_freq\u001b[0m\u001b[0;34m=\u001b[0m\u001b[0mvalidation_freq\u001b[0m\u001b[0;34m,\u001b[0m\u001b[0;34m\u001b[0m\u001b[0;34m\u001b[0m\u001b[0m\n\u001b[0;32m--> 780\u001b[0;31m           steps_name='steps_per_epoch')\n\u001b[0m\u001b[1;32m    781\u001b[0m \u001b[0;34m\u001b[0m\u001b[0m\n\u001b[1;32m    782\u001b[0m   def evaluate(self,\n",
      "\u001b[0;32m~/.virtualenvs/deeplearning/lib/python3.6/site-packages/tensorflow/python/keras/engine/training_arrays.py\u001b[0m in \u001b[0;36mmodel_iteration\u001b[0;34m(model, inputs, targets, sample_weights, batch_size, epochs, verbose, callbacks, val_inputs, val_targets, val_sample_weights, shuffle, initial_epoch, steps_per_epoch, validation_steps, validation_freq, mode, validation_in_fit, prepared_feed_values_from_dataset, steps_name, **kwargs)\u001b[0m\n\u001b[1;32m    361\u001b[0m \u001b[0;34m\u001b[0m\u001b[0m\n\u001b[1;32m    362\u001b[0m         \u001b[0;31m# Get outputs.\u001b[0m\u001b[0;34m\u001b[0m\u001b[0;34m\u001b[0m\u001b[0;34m\u001b[0m\u001b[0m\n\u001b[0;32m--> 363\u001b[0;31m         \u001b[0mbatch_outs\u001b[0m \u001b[0;34m=\u001b[0m \u001b[0mf\u001b[0m\u001b[0;34m(\u001b[0m\u001b[0mins_batch\u001b[0m\u001b[0;34m)\u001b[0m\u001b[0;34m\u001b[0m\u001b[0;34m\u001b[0m\u001b[0m\n\u001b[0m\u001b[1;32m    364\u001b[0m         \u001b[0;32mif\u001b[0m \u001b[0;32mnot\u001b[0m \u001b[0misinstance\u001b[0m\u001b[0;34m(\u001b[0m\u001b[0mbatch_outs\u001b[0m\u001b[0;34m,\u001b[0m \u001b[0mlist\u001b[0m\u001b[0;34m)\u001b[0m\u001b[0;34m:\u001b[0m\u001b[0;34m\u001b[0m\u001b[0;34m\u001b[0m\u001b[0m\n\u001b[1;32m    365\u001b[0m           \u001b[0mbatch_outs\u001b[0m \u001b[0;34m=\u001b[0m \u001b[0;34m[\u001b[0m\u001b[0mbatch_outs\u001b[0m\u001b[0;34m]\u001b[0m\u001b[0;34m\u001b[0m\u001b[0;34m\u001b[0m\u001b[0m\n",
      "\u001b[0;32m~/.virtualenvs/deeplearning/lib/python3.6/site-packages/tensorflow/python/keras/backend.py\u001b[0m in \u001b[0;36m__call__\u001b[0;34m(self, inputs)\u001b[0m\n\u001b[1;32m   3290\u001b[0m \u001b[0;34m\u001b[0m\u001b[0m\n\u001b[1;32m   3291\u001b[0m     fetched = self._callable_fn(*array_vals,\n\u001b[0;32m-> 3292\u001b[0;31m                                 run_metadata=self.run_metadata)\n\u001b[0m\u001b[1;32m   3293\u001b[0m     \u001b[0mself\u001b[0m\u001b[0;34m.\u001b[0m\u001b[0m_call_fetch_callbacks\u001b[0m\u001b[0;34m(\u001b[0m\u001b[0mfetched\u001b[0m\u001b[0;34m[\u001b[0m\u001b[0;34m-\u001b[0m\u001b[0mlen\u001b[0m\u001b[0;34m(\u001b[0m\u001b[0mself\u001b[0m\u001b[0;34m.\u001b[0m\u001b[0m_fetches\u001b[0m\u001b[0;34m)\u001b[0m\u001b[0;34m:\u001b[0m\u001b[0;34m]\u001b[0m\u001b[0;34m)\u001b[0m\u001b[0;34m\u001b[0m\u001b[0;34m\u001b[0m\u001b[0m\n\u001b[1;32m   3294\u001b[0m     output_structure = nest.pack_sequence_as(\n",
      "\u001b[0;32m~/.virtualenvs/deeplearning/lib/python3.6/site-packages/tensorflow/python/client/session.py\u001b[0m in \u001b[0;36m__call__\u001b[0;34m(self, *args, **kwargs)\u001b[0m\n\u001b[1;32m   1456\u001b[0m         ret = tf_session.TF_SessionRunCallable(self._session._session,\n\u001b[1;32m   1457\u001b[0m                                                \u001b[0mself\u001b[0m\u001b[0;34m.\u001b[0m\u001b[0m_handle\u001b[0m\u001b[0;34m,\u001b[0m \u001b[0margs\u001b[0m\u001b[0;34m,\u001b[0m\u001b[0;34m\u001b[0m\u001b[0;34m\u001b[0m\u001b[0m\n\u001b[0;32m-> 1458\u001b[0;31m                                                run_metadata_ptr)\n\u001b[0m\u001b[1;32m   1459\u001b[0m         \u001b[0;32mif\u001b[0m \u001b[0mrun_metadata\u001b[0m\u001b[0;34m:\u001b[0m\u001b[0;34m\u001b[0m\u001b[0;34m\u001b[0m\u001b[0m\n\u001b[1;32m   1460\u001b[0m           \u001b[0mproto_data\u001b[0m \u001b[0;34m=\u001b[0m \u001b[0mtf_session\u001b[0m\u001b[0;34m.\u001b[0m\u001b[0mTF_GetBuffer\u001b[0m\u001b[0;34m(\u001b[0m\u001b[0mrun_metadata_ptr\u001b[0m\u001b[0;34m)\u001b[0m\u001b[0;34m\u001b[0m\u001b[0;34m\u001b[0m\u001b[0m\n",
      "\u001b[0;31mKeyboardInterrupt\u001b[0m: "
     ]
    }
   ],
   "source": [
    "EPOCHS = 200\n",
    "BATCH_SIZE = 64 \n",
    "NAME = f\"INITIAL MODEL {EPOCHS}-{BATCH_SIZE}\"\n",
    "opt = tf.keras.optimizers.RMSprop(learning_rate=0.001, rho=0.9)\n",
    "model.compile(\n",
    "    loss='binary_crossentropy',\n",
    "    optimizer=opt,\n",
    "    metrics=['accuracy']\n",
    ")\n",
    "filepath = \"LSTM-{epoch:02d}-{val_acc:.3f}\"\n",
    "\n",
    "history = model.fit(\n",
    "    X_train, Y_train,\n",
    "    batch_size=BATCH_SIZE,\n",
    "    epochs=EPOCHS,\n",
    "    validation_data=(X_test, Y_test),\n",
    ")\n",
    "\n",
    "score = model.evaluate(X_test, Y_test, verbose=0)\n",
    "print('Test loss:', score[0])\n",
    "print('Test accuracy:', score[1])\n",
    "\n",
    "model.save(\"models/{}\".format(NAME))"
   ]
  },
  {
   "cell_type": "code",
   "execution_count": 0,
   "metadata": {
    "colab": {},
    "colab_type": "code",
    "id": "4oTjcZX5L6v4"
   },
   "outputs": [],
   "source": []
  }
 ],
 "metadata": {
  "colab": {
   "collapsed_sections": [],
   "name": "pose_estimation.ipynb",
   "provenance": [],
   "toc_visible": true
  },
  "kernelspec": {
   "display_name": "Python 3",
   "language": "python",
   "name": "python3"
  },
  "language_info": {
   "codemirror_mode": {
    "name": "ipython",
    "version": 3
   },
   "file_extension": ".py",
   "mimetype": "text/x-python",
   "name": "python",
   "nbconvert_exporter": "python",
   "pygments_lexer": "ipython3",
   "version": "3.6.8"
  }
 },
 "nbformat": 4,
 "nbformat_minor": 1
}
